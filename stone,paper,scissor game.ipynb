{
 "cells": [
  {
   "cell_type": "code",
   "execution_count": 38,
   "id": "cd722fba",
   "metadata": {},
   "outputs": [
    {
     "name": "stdout",
     "output_type": "stream",
     "text": [
      "first person choice=scissor\n",
      "second person choice=paper\n",
      "the first person win\n"
     ]
    }
   ],
   "source": [
    "#stone paper sccicor\n",
    "first_person=input(\"first person choice=\")\n",
    "second_person=input(\"second person choice=\")\n",
    "if first_person==\"rock\":\n",
    "    if second_person==\"rock\":\n",
    "        print(\"the match is tie\")\n",
    "    elif second_person==\"paper\":\n",
    "        print(\"the second person win\")\n",
    "    elif second_person==\"scissor\":\n",
    "        print(\"the first person win\")\n",
    "elif first_person==\"paper\":\n",
    "    if second_person==\"paper\":\n",
    "        print(\"its tie match\")\n",
    "    elif second_person==\"scissor\":\n",
    "        print(\"the second person win\")\n",
    "    elif second_person==\"rock\":\n",
    "        print(\"the second person win\")\n",
    "elif first_person==\"scissor\":\n",
    "    if second_person==\"scissor\":\n",
    "        print(\"the match is tie\")\n",
    "    elif second_person==\"paper\":\n",
    "        print(\"the first person win\")\n",
    "    elif second_person==\"rock\":\n",
    "          print(\"thefirst person win \")\n",
    "else:\n",
    "     print(\"you got wrong input\")\n",
    "    \n",
    "    "
   ]
  },
  {
   "cell_type": "code",
   "execution_count": null,
   "id": "58660910",
   "metadata": {},
   "outputs": [],
   "source": []
  },
  {
   "cell_type": "code",
   "execution_count": null,
   "id": "da60aa15",
   "metadata": {},
   "outputs": [],
   "source": []
  }
 ],
 "metadata": {
  "kernelspec": {
   "display_name": "Python 3 (ipykernel)",
   "language": "python",
   "name": "python3"
  },
  "language_info": {
   "codemirror_mode": {
    "name": "ipython",
    "version": 3
   },
   "file_extension": ".py",
   "mimetype": "text/x-python",
   "name": "python",
   "nbconvert_exporter": "python",
   "pygments_lexer": "ipython3",
   "version": "3.9.13"
  }
 },
 "nbformat": 4,
 "nbformat_minor": 5
}
